{
 "cells": [
  {
   "cell_type": "code",
   "execution_count": 4,
   "id": "9ccf0d06-6598-4a2c-bb74-631bf3b11786",
   "metadata": {},
   "outputs": [],
   "source": [
    "import pytest"
   ]
  },
  {
   "cell_type": "code",
   "execution_count": 11,
   "id": "df404736",
   "metadata": {
    "tags": []
   },
   "outputs": [],
   "source": [
    "def print_all(var):\n",
    "    for key, value in var.items():\n",
    "        print(f'''{key} - {value}''')"
   ]
  },
  {
   "cell_type": "code",
   "execution_count": 12,
   "id": "5a80156c",
   "metadata": {},
   "outputs": [],
   "source": [
    "def main():\n",
    "    classes = {\"MSDS 501\":\"Computation for Analytics\",\n",
    "               \"MSDS 504\":\"Review Probability and Stats\"}\n",
    "    print_all(classes)"
   ]
  },
  {
   "cell_type": "code",
   "execution_count": 14,
   "id": "c3fd41a1-5a35-4259-8f9e-3bcfb8668c56",
   "metadata": {},
   "outputs": [
    {
     "name": "stdout",
     "output_type": "stream",
     "text": [
      "MSDS 501 - Computation for Analytics\n",
      "MSDS 504 - Review Probability and Stats\n"
     ]
    }
   ],
   "source": [
    "if __name__=='__main__':\n",
    "    main()"
   ]
  },
  {
   "cell_type": "code",
   "execution_count": null,
   "id": "7c9d8b81-d3fa-400e-b4ae-0a3fc14e82b3",
   "metadata": {},
   "outputs": [],
   "source": []
  }
 ],
 "metadata": {
  "kernelspec": {
   "display_name": "Python 3 (ipykernel)",
   "language": "python",
   "name": "python3"
  },
  "language_info": {
   "codemirror_mode": {
    "name": "ipython",
    "version": 3
   },
   "file_extension": ".py",
   "mimetype": "text/x-python",
   "name": "python",
   "nbconvert_exporter": "python",
   "pygments_lexer": "ipython3",
   "version": "3.9.12"
  },
  "toc-autonumbering": true,
  "toc-showmarkdowntxt": false,
  "toc-showtags": false,
  "varInspector": {
   "cols": {
    "lenName": 16,
    "lenType": 16,
    "lenVar": 40
   },
   "kernels_config": {
    "python": {
     "delete_cmd_postfix": "",
     "delete_cmd_prefix": "del ",
     "library": "var_list.py",
     "varRefreshCmd": "print(var_dic_list())"
    },
    "r": {
     "delete_cmd_postfix": ") ",
     "delete_cmd_prefix": "rm(",
     "library": "var_list.r",
     "varRefreshCmd": "cat(var_dic_list()) "
    }
   },
   "types_to_exclude": [
    "module",
    "function",
    "builtin_function_or_method",
    "instance",
    "_Feature"
   ],
   "window_display": false
  }
 },
 "nbformat": 4,
 "nbformat_minor": 5
}
