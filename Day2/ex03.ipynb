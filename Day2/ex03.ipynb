{
 "cells": [
  {
   "cell_type": "markdown",
   "id": "16f3b481-0f0b-4194-8067-2efc2ae7678a",
   "metadata": {
    "tags": []
   },
   "source": [
    "##\n",
    "The following codes have errors.\n",
    "- inputs : supposed to have only integers, but may contain strings\n",
    "- When exception happens, print an message indicating the index number of wrong data types considering the error types."
   ]
  },
  {
   "cell_type": "code",
   "execution_count": 1,
   "id": "42422721-96ad-4525-b081-847230559cef",
   "metadata": {},
   "outputs": [],
   "source": [
    "inputs = [1, 2, 3, 4, \"9\", \"10\"]"
   ]
  },
  {
   "cell_type": "code",
   "execution_count": 2,
   "id": "50a1bb14-5487-4dc6-a6f4-2bdcbb00d4fa",
   "metadata": {},
   "outputs": [
    {
     "ename": "TypeError",
     "evalue": "unsupported operand type(s) for +: 'int' and 'str'",
     "output_type": "error",
     "traceback": [
      "\u001b[0;31m---------------------------------------------------------------------------\u001b[0m",
      "\u001b[0;31mTypeError\u001b[0m                                 Traceback (most recent call last)",
      "Input \u001b[0;32mIn [2]\u001b[0m, in \u001b[0;36m<cell line: 1>\u001b[0;34m()\u001b[0m\n\u001b[0;32m----> 1\u001b[0m \u001b[38;5;28mprint\u001b[39m(\u001b[38;5;28;43msum\u001b[39;49m\u001b[43m(\u001b[49m\u001b[43minputs\u001b[49m\u001b[43m)\u001b[49m)\n",
      "\u001b[0;31mTypeError\u001b[0m: unsupported operand type(s) for +: 'int' and 'str'"
     ]
    }
   ],
   "source": [
    "print(sum(inputs))"
   ]
  },
  {
   "cell_type": "code",
   "execution_count": 3,
   "id": "8638ebf9-a9e7-4886-95ba-18698179ef19",
   "metadata": {},
   "outputs": [
    {
     "name": "stdout",
     "output_type": "stream",
     "text": [
      "Wrong data types:\n",
      "5\n",
      "6\n"
     ]
    }
   ],
   "source": [
    "try:\n",
    "    print(sum(inputs))\n",
    "except TypeError:\n",
    "    print(\"Wrong data types:\")\n",
    "    for index in range(0, len(inputs)):\n",
    "        if(type(inputs[index]) != int):\n",
    "            print(f'''{index + 1}''')"
   ]
  },
  {
   "cell_type": "code",
   "execution_count": null,
   "id": "4b445453-b740-48df-b359-a03ddff5da9f",
   "metadata": {},
   "outputs": [],
   "source": []
  }
 ],
 "metadata": {
  "kernelspec": {
   "display_name": "Python 3 (ipykernel)",
   "language": "python",
   "name": "python3"
  },
  "language_info": {
   "codemirror_mode": {
    "name": "ipython",
    "version": 3
   },
   "file_extension": ".py",
   "mimetype": "text/x-python",
   "name": "python",
   "nbconvert_exporter": "python",
   "pygments_lexer": "ipython3",
   "version": "3.9.12"
  }
 },
 "nbformat": 4,
 "nbformat_minor": 5
}
